{
 "cells": [
  {
   "cell_type": "markdown",
   "metadata": {},
   "source": [
    "## Доверительные интервалы"
   ]
  },
  {
   "cell_type": "code",
   "execution_count": 86,
   "metadata": {},
   "outputs": [],
   "source": [
    "%matplotlib inline\n",
    "import numpy as np\n",
    "import matplotlib.pyplot as plt\n",
    "import scipy.stats as sps\n",
    "import math"
   ]
  },
  {
   "cell_type": "markdown",
   "metadata": {},
   "source": [
    "### Задача 1"
   ]
  },
  {
   "cell_type": "markdown",
   "metadata": {},
   "source": [
    "### Равномерное распределение\n",
    "\n",
    "$R[0, \\theta]$ с $\\theta_0 = 10$. Построим доверительные интервалы используя статистики: $\\overline{X}$, $X_{(1)}$, $X_{(n)}$ уровня доверия $\\alpha = 0.95$. Итак получаем три доверительных интервала:\n",
    "$$\\left(\\frac{\\overline{X}}{\\frac{1}{2} + \\sqrt{\\frac{1}{12n(1-\\alpha)}}}, \\frac{\\overline{X}}{\\frac{1}{2} - \\sqrt{\\frac{1}{12n(1-\\alpha)}}}\\right) \\tag{1}$$\n",
    "$$\\left(X_{(1)}, \\frac{X_{(1)}}{1 - \\sqrt[n]{\\alpha}} \\right) \\tag{2}$$\n",
    "$$\\left( X_{(n)}, \\frac{X_{(n)}}{\\sqrt[n]{1 - \\alpha}} \\right) \\tag{3}$$"
   ]
  },
  {
   "cell_type": "code",
   "execution_count": 135,
   "metadata": {},
   "outputs": [
    {
     "data": {
      "text/plain": [
       "(0, 25)"
      ]
     },
     "execution_count": 135,
     "metadata": {},
     "output_type": "execute_result"
    },
    {
     "data": {
      "image/png": "[encoded data removed]",
      "text/plain": [
       "<Figure size 432x288 with 1 Axes>"
      ]
     },
     "metadata": {},
     "output_type": "display_data"
    }
   ],
   "source": [
    "#задаем изначальные параметры\n",
    "N = 100\n",
    "n = np.arange(1, N + 1)\n",
    "theta0 = 10\n",
    "X = sps.uniform.rvs(size=N, loc=0, scale=theta0)\n",
    "alpha = 0.95\n",
    "\n",
    "#считаем по формуле (1)\n",
    "def LeftBorder1(sample):\n",
    "    return (sample.cumsum() / n) / (1/2 + np.sqrt(1/(12*n*(1 - alpha))))\n",
    "def RightBorder1(sample):\n",
    "    return (sample.cumsum() / n) / (1/2 - np.sqrt(1/(12*n*(1 - alpha))))\n",
    "\n",
    "plt.fill_between(n, LeftBorder1(X), RightBorder1(X), alpha=0.6)\n",
    "plt.plot(n, np.ones(N) * theta0)\n",
    "plt.ylim(0, 25)"
   ]
  },
  {
   "cell_type": "code",
   "execution_count": 136,
   "metadata": {},
   "outputs": [
    {
     "data": {
      "text/plain": [
       "[<matplotlib.lines.Line2D at 0x7f2f7dc628d0>]"
      ]
     },
     "execution_count": 136,
     "metadata": {},
     "output_type": "execute_result"
    },
    {
     "data": {
      "image/png": "[encoded data removed]",
      "text/plain": [
       "<Figure size 432x288 with 1 Axes>"
      ]
     },
     "metadata": {},
     "output_type": "display_data"
    }
   ],
   "source": [
    "#считаем по формуле (2)\n",
    "def LeftBorder2(sample):\n",
    "    return np.minimum.accumulate(sample)\n",
    "def RightBorder2(sample):\n",
    "    return (np.minimum.accumulate(sample)) / (1 - alpha**(1 / n))\n",
    "\n",
    "plt.fill_between(n, LeftBorder2(X), RightBorder2(X), alpha=0.6)\n",
    "plt.plot(n, np.ones(N) * theta0, color=\"black\")"
   ]
  },
  {
   "cell_type": "code",
   "execution_count": 137,
   "metadata": {},
   "outputs": [
    {
     "data": {
      "text/plain": [
       "<matplotlib.collections.PolyCollection at 0x7f2f7d8eaeb8>"
      ]
     },
     "execution_count": 137,
     "metadata": {},
     "output_type": "execute_result"
    },
    {
     "data": {
      "image/png": "[encoded data removed]",
      "text/plain": [
       "<Figure size 432x288 with 1 Axes>"
      ]
     },
     "metadata": {},
     "output_type": "display_data"
    }
   ],
   "source": [
    "#считаем по формуле (3)\n",
    "def LeftBorder3(sample):\n",
    "    return np.maximum.accumulate(sample)\n",
    "def RightBorder3(sample):\n",
    "    return (np.maximum.accumulate(sample)) / (1 - alpha)**(1/n)\n",
    "\n",
    "plt.ylim(6, 15)\n",
    "plt.plot(n, np.ones(N) * theta0, color=\"black\")\n",
    "plt.fill_between(n, LeftBorder3(X), RightBorder3(X), alpha=0.6)"
   ]
  },
  {
   "cell_type": "code",
   "execution_count": 138,
   "metadata": {},
   "outputs": [
    {
     "name": "stdout",
     "output_type": "stream",
     "text": [
      "Вероятность попадания в (1) интервал 100.0%\n",
      "Вероятность попадания в (2) интервал 96.4%\n",
      "Вероятность попадания в (3) интервал 94.9%\n"
     ]
    }
   ],
   "source": [
    "#обращаю внимание на введенную функцию, в дальнейшем я буду ее везде использовать для опрделения \n",
    "#вероятност попадания истинного значения в ДИ \n",
    "def LavelOfConfidence(getSample, LeftBorder, RightBorder, theta0):\n",
    "    M = 1000  #кол-во экспериментов (кол-во определяется тем, что вероятность должна получится около ур доверия)\n",
    "    number = 0  \n",
    "    for i in range(M):\n",
    "        X = getSample()\n",
    "        N = X.size\n",
    "        number += (LeftBorder(X)[N - 1] <= theta0 and RightBorder(X)[N - 1] >= theta0)\n",
    "    return ((number/M * 100).round(1))\n",
    "\n",
    "def getSample():  # с помощью этой функции получаем выборку\n",
    "    return sps.uniform.rvs(size=N, loc=0, scale=theta0)\n",
    "\n",
    "level1 = LavelOfConfidence(getSample, LeftBorder1, RightBorder1, theta0)\n",
    "level2 = LavelOfConfidence(getSample, LeftBorder2, RightBorder2, theta0)\n",
    "level3 = LavelOfConfidence(getSample, LeftBorder3, RightBorder3, theta0)\n",
    "print(\"Вероятность попадания в (1) интервал {}%\".format(level1))\n",
    "print(\"Вероятность попадания в (2) интервал {}%\".format(level2))\n",
    "print(\"Вероятность попадания в (3) интервал {}%\".format(level3))"
   ]
  },
  {
   "cell_type": "markdown",
   "metadata": {},
   "source": [
    "По результатам видно, что 2 и 3 - интервалы являются точными, а вот 1 - неточный доверительный интервал. При этом наименьшую длину имеет 3 интервал (при размере выборки больше 30), а вот 2 интервал даже при достаточно больших n имеет все равно существеную длину. (Масштаб на 1 и 3 графиках уменьшен, чтобы картинка была более информативна). Еще стоит заметить, что 1-ый интервал при малых n - не свовсем верен, поэтому стоит смотреть тольку ту часть который начинает включать инстинное значение. "
   ]
  },
  {
   "cell_type": "markdown",
   "metadata": {},
   "source": [
    "### Распределение Коши\n",
    "\n",
    "$Cauchy(\\theta)$, $\\theta_0 = 10$. Для уровня доверия $\\alpha = 0.95$ получаем доверительный интервал:\n",
    "$$\\left(\\hat{\\mu_n} - \\frac{\\pi}{2}\\frac{u_{\\frac{1+\\alpha}{2}}}{\\sqrt{n}}, \\hat{\\mu_n} - \\frac{\\pi}{2}\\frac{u_{\\frac{1 - \\alpha}{2}}}{\\sqrt{n}}\\right)$$"
   ]
  },
  {
   "cell_type": "code",
   "execution_count": 139,
   "metadata": {},
   "outputs": [
    {
     "name": "stdout",
     "output_type": "stream",
     "text": [
      "Вероятность попадания в данный интервал 95.4%\n"
     ]
    },
    {
     "data": {
      "image/png": "[encoded data removed]",
      "text/plain": [
       "<Figure size 432x288 with 1 Axes>"
      ]
     },
     "metadata": {},
     "output_type": "display_data"
    }
   ],
   "source": [
    "N = 100\n",
    "n = np.arange(1, N + 1)\n",
    "theta0 = 10\n",
    "alpha = 0.95\n",
    "X = sps.cauchy.rvs(size=N, loc=theta0)\n",
    "\n",
    "def SampleMean(X):  #функция возвращающая выборочные медианы\n",
    "    res = np.zeros(X.size)\n",
    "    for i in range(X.size):\n",
    "        x = np.sort(X[:i + 1])\n",
    "        if(i % 2 == 0):\n",
    "            res[i] = x[i // 2]\n",
    "        if(i % 2 == 1):\n",
    "            res[i] = (x[i // 2] + x[i // 2 + 1]) / 2\n",
    "    return res\n",
    "\n",
    "def Standartppf(gamma):  #функция везде используется в дальнейшем, которая определяет квантили \n",
    "    return sps.norm.ppf(q=gamma, loc=0, scale=1) #стандартного нормального закона\n",
    "\n",
    "def LeftBorder(X):\n",
    "    return SampleMean(X) - (math.pi * Standartppf((1 + alpha) / 2) / (2 * np.sqrt(n)))\n",
    "\n",
    "def RightBorder(X):\n",
    "    return SampleMean(X) - (math.pi * Standartppf((1 - alpha) / 2) / (2 * np.sqrt(n)))\n",
    "\n",
    "plt.plot(n, np.ones(N) * theta0, color=\"black\")\n",
    "plt.fill_between(n, LeftBorder(X), RightBorder(X), alpha=0.6)\n",
    "\n",
    "def getSample():\n",
    "    return sps.cauchy.rvs(size=N, loc=theta0)\n",
    "\n",
    "print(\"Вероятность попадания в данный интервал {}%\".format(\\\n",
    "                        LavelOfConfidence(getSample, LeftBorder, RightBorder, theta0)))"
   ]
  },
  {
   "cell_type": "markdown",
   "metadata": {},
   "source": [
    "### Рспределение Пуассона\n",
    "\n",
    "$Pois(\\theta)$, $\\theta_0 = 10$. Построить асимптотически доверительный интервал уровня доверия $\\alpha = 0.95$. Асимптотический доверительный интервал будет находится по формуле:\n",
    "$$\\left( \\overline{X} - \\sqrt{\\frac{\\overline{X}}{n}}u_{\\frac{1+\\alpha}{2}}, \\overline{X} - \\sqrt{\\frac{\\overline{X}}{n}}u_{\\frac{1-\\alpha}{2}} \\right)$$ где $u_{\\frac{1+\\alpha}{2}}$ и $u_{\\frac{1-\\alpha}{2}}$ - соответствующие квантили $N(0, 1)$"
   ]
  },
  {
   "cell_type": "code",
   "execution_count": 95,
   "metadata": {},
   "outputs": [
    {
     "name": "stdout",
     "output_type": "stream",
     "text": [
      "Вероятность попадания в доверительный интервал состовляет: 95.0%\n"
     ]
    },
    {
     "data": {
      "image/png": "[encoded data removed]",
      "text/plain": [
       "<Figure size 432x288 with 1 Axes>"
      ]
     },
     "metadata": {},
     "output_type": "display_data"
    }
   ],
   "source": [
    "N = 100\n",
    "n = np.arange(1, N + 1)\n",
    "theta0 = 10\n",
    "X = sps.poisson.rvs(size=N, mu=theta0)\n",
    "alpha = 0.95\n",
    "\n",
    "def getSample():\n",
    "    return sps.poisson.rvs(size=N, mu=theta0)\n",
    "\n",
    "def LeftBorder(X):\n",
    "    n = np.arange(1, X.size + 1)\n",
    "    sample_mean = X.cumsum() / n\n",
    "    return sample_mean - np.sqrt(sample_mean / n) * Standartppf((1 + alpha) / 2)\n",
    "\n",
    "def RightBorder(X):\n",
    "    n = np.arange(1, X.size + 1)\n",
    "    sample_mean = X.cumsum() / n\n",
    "    return sample_mean - np.sqrt(sample_mean / n) * Standartppf((1 - alpha) / 2)\n",
    "\n",
    "plt.fill_between(n, LeftBorder(X), RightBorder(X), alpha=0.7)\n",
    "plt.plot(n, np.ones(N)*theta0, color=\"black\")\n",
    "print(\"Вероятность попадания в доверительный интервал состовляет: {}%\".format(\\\n",
    "                    LavelOfConfidence(getSample, LeftBorder, RightBorder, theta0)))"
   ]
  },
  {
   "cell_type": "markdown",
   "metadata": {},
   "source": [
    "### Гамма-распределене\n",
    "\n",
    "$\\Gamma(\\theta, \\lambda), \\; \\theta_0 = 10, \\; \\lambda_0 = 3$. Построим два асимптотических интервала уровня доверия $\\alpha=0.95$ для двух случаев: когда $\\lambda_0$ - известен и когда $\\lambda_0$ - неизвестен. В первом случае полаем доверительный интервал вида:\n",
    "$$\\left(\\lambda_0\\overline{X} - \\lambda_0\\sqrt{\\frac{\\overline{X}}{n\\lambda_0}}u_{\\frac{1+\\alpha}{2}},\\; \\lambda_0\\overline{X} - \\lambda_0\\sqrt{\\frac{\\overline{X}}{n\\lambda_0}}u_{\\frac{1-\\alpha}{2}} \\right), \\tag{1}$$ \n",
    "Если параметр $\\lambda_0$ - неизвестен, то воспользуемся теоремой о наследовании сходимости. Так как мы знаем, что $s^2$ состоятельная оценка $\\cfrac{\\theta}{\\lambda^2}$, а $\\overline{X}$ - состоятельная оценка $\\cfrac{\\theta}{\\lambda}$, то отсюда состоятельной оценкой $\\lambda$ будет $\\cfrac{\\overline{X}}{s^2}$. Тогда просто в предыдущую формулу  вместо $\\lambda_0$ подставим эти выражения и получим:\n",
    "$$\\left(\\frac{\\overline{X}^2}{s^2} - \\frac{\\overline{X}}{s^2}\\sqrt{\\frac{s^2}{n}}u_{\\frac{1+\\alpha}{2}},\\; \\frac{\\overline{X}^2}{s^2} - \\frac{\\overline{X}}{s^2}\\sqrt{\\frac{s^2}{n}}u_{\\frac{1-\\alpha}{2}} \\right) \\tag{2}$$ "
   ]
  },
  {
   "cell_type": "code",
   "execution_count": 117,
   "metadata": {},
   "outputs": [
    {
     "name": "stdout",
     "output_type": "stream",
     "text": [
      "Вероятность попадания в доверительный интервал состовляет: 94.9%\n"
     ]
    },
    {
     "data": {
      "image/png": "[encoded data removed]",
      "text/plain": [
       "<Figure size 432x288 with 1 Axes>"
      ]
     },
     "metadata": {},
     "output_type": "display_data"
    }
   ],
   "source": [
    "N = 100\n",
    "theta0 = 10\n",
    "lambda0 = 3\n",
    "alpha = 0.95\n",
    "X = sps.gamma.rvs(size=N, a=theta0, scale=1 / lambda0)\n",
    "n = np.arange(1, N + 1)\n",
    "\n",
    "def getSample():\n",
    "    return sps.gamma.rvs(size=N, a=theta0, scale=1 / lambda0)\n",
    "\n",
    "def LeftBorder1(X):\n",
    "    n = np.arange(1, X.size + 1)\n",
    "    sample_mean = X.cumsum() / n\n",
    "    return lambda0 * (sample_mean - np.sqrt((sample_mean) / (n * lambda0)) * Standartppf((1 + alpha) / 2))\n",
    "\n",
    "def RightBorder1(X):\n",
    "    n = np.arange(1, X.size + 1)\n",
    "    sample_mean = X.cumsum() / n\n",
    "    return lambda0 * (sample_mean - np.sqrt((sample_mean) / (n * lambda0)) * Standartppf((1 - alpha) / 2))\n",
    "\n",
    "plt.fill_between(n, LeftBorder1(X), RightBorder1(X), alpha=0.7)\n",
    "plt.plot(n, np.ones(N)*theta0, color=\"black\")\n",
    "print(\"Вероятность попадания в доверительный интервал состовляет: {}%\".format(\\\n",
    "                    LavelOfConfidence(getSample, LeftBorder1, RightBorder1, theta0)))"
   ]
  },
  {
   "cell_type": "code",
   "execution_count": 120,
   "metadata": {},
   "outputs": [
    {
     "name": "stdout",
     "output_type": "stream",
     "text": [
      "Вероятность попадания в доверительный интервал состовляет: 29.0%\n"
     ]
    },
    {
     "data": {
      "image/png": "[encoded data removed]",
      "text/plain": [
       "<Figure size 432x288 with 1 Axes>"
      ]
     },
     "metadata": {},
     "output_type": "display_data"
    }
   ],
   "source": [
    "def LeftBorder2(X):\n",
    "    n = np.arange(1, X.size + 1)\n",
    "    sample_mean = X.cumsum() / n\n",
    "    sample_var = (X**2).cumsum() / n - sample_mean**2\n",
    "    sample_var[0] = 1\n",
    "    return sample_mean**2 / sample_var - \\\n",
    "        (sample_mean / sample_var) * (np.sqrt(sample_var / n) * Standartppf((1 + alpha) / 2))\n",
    "\n",
    "def RightBorder2(X):\n",
    "    n = np.arange(1, X.size + 1)\n",
    "    sample_mean = X.cumsum() / n\n",
    "    sample_var = (X**2).cumsum() / n - sample_mean**2\n",
    "    sample_var[0] = 1\n",
    "    return sample_mean**2 / sample_var - \\\n",
    "        (sample_mean / sample_var) * (np.sqrt(sample_var / n) * Standartppf((1 - alpha) / 2))\n",
    "\n",
    "plt.fill_between(n, LeftBorder2(X), RightBorder2(X), alpha=0.7)\n",
    "plt.plot(n, np.ones(N)*theta0, color=\"black\")\n",
    "print(\"Вероятность попадания в доверительный интервал состовляет: {}%\".format(\\\n",
    "                    LavelOfConfidence(getSample, LeftBorder2, RightBorder2, theta0)))"
   ]
  },
  {
   "cell_type": "markdown",
   "metadata": {},
   "source": [
    "Сделаем выводы: так как ДИ - является асимптотическим, при малых $N$ - он дает плохие значения вероятности попдания истинного значения в него, при увелечении $N$, из графика видно что интервал подходит ближе к истинному значению. "
   ]
  }
 ],
 "metadata": {
  "kernelspec": {
   "display_name": "Python 3",
   "language": "python",
   "name": "python3"
  },
  "language_info": {
   "codemirror_mode": {
    "name": "ipython",
    "version": 3
   },
   "file_extension": ".py",
   "mimetype": "text/x-python",
   "name": "python",
   "nbconvert_exporter": "python",
   "pygments_lexer": "ipython3",
   "version": "3.6.5"
  }
 },
 "nbformat": 4,
 "nbformat_minor": 2
}
